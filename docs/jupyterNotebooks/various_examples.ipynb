{
 "cells": [
  {
   "cell_type": "code",
   "execution_count": 1,
   "metadata": {},
   "outputs": [],
   "source": [
    "from pioneer.das.api.platform import Platform"
   ]
  },
  {
   "cell_type": "code",
   "execution_count": 2,
   "metadata": {},
   "outputs": [
    {
     "name": "stderr",
     "output_type": "stream",
     "text": [
      "Loading sensors: 100%|██████████| 9/9 [00:03<00:00,  2.66it/s]\n"
     ]
    }
   ],
   "source": [
    "#Import a dataset\n",
    "pf = Platform('/nas/pixset/exportedDataset/20200610_185206_rec_dataset_downtown05_exported')"
   ]
  },
  {
   "cell_type": "code",
   "execution_count": 4,
   "metadata": {},
   "outputs": [
    {
     "name": "stdout",
     "output_type": "stream",
     "text": [
      "[[ 0.09666907 -4.28391033  0.54299546]\n",
      " [ 0.22660905 -4.25364225  0.53681453]\n",
      " [ 0.36324557 -4.27130794  0.54400651]\n",
      " ...\n",
      " [ 0.22044203  2.95838363 -0.38217962]\n",
      " [ 0.12273205  2.92489976 -0.380672  ]\n",
      " [ 0.03008328  2.98915642 -0.38559348]]\n"
     ]
    }
   ],
   "source": [
    "# Get an Echo sample and convert it to a point cloud\n",
    "frame = 100\n",
    "ech_sample = pf['pixell_bfc_ech'][frame]\n",
    "point_cloud = ech_sample.point_cloud()\n",
    "print(point_cloud)"
   ]
  },
  {
   "cell_type": "code",
   "execution_count": 5,
   "metadata": {},
   "outputs": [
    {
     "name": "stdout",
     "output_type": "stream",
     "text": [
      "[[ 0.09679917 -4.2837933   0.54297583]\n",
      " [ 0.22673928 -4.25352557  0.5367959 ]\n",
      " [ 0.36337571 -4.2711917   0.54398881]\n",
      " ...\n",
      " [ 0.22069011  2.95855342 -0.38215851]\n",
      " [ 0.12297991  2.92507012 -0.38065249]\n",
      " [ 0.0303316   2.98932737 -0.3855748 ]]\n"
     ]
    }
   ],
   "source": [
    "# Get the same point_cloud, but with motion compensation\n",
    "point_cloud = ech_sample.point_cloud(undistort=True)\n",
    "print(point_cloud)"
   ]
  },
  {
   "cell_type": "code",
   "execution_count": 7,
   "metadata": {},
   "outputs": [
    {
     "name": "stderr",
     "output_type": "stream",
     "text": [
      "Synchronizing: 100%|██████████| 7/7 [00:00<00:00,  9.38it/s]\n"
     ]
    },
    {
     "data": {
      "text/plain": [
       "array([[1409.85171686,  492.10873674],\n",
       "       [1390.27858729,  494.58597238],\n",
       "       [1370.85057236,  495.98937678],\n",
       "       ...,\n",
       "       [ 123.73083049,  650.80015815],\n",
       "       [ 103.39496532,  654.22833674],\n",
       "       [1423.25237629,  493.32446652]])"
      ]
     },
     "execution_count": 7,
     "metadata": {},
     "output_type": "execute_result"
    }
   ],
   "source": [
    "# Project a point cloud in a camera image\n",
    "# First, we synchronize the dataset to make sure the point_cloud and the image are in sync\n",
    "sync = pf.synchronized()\n",
    "\n",
    "# Then, we get the samples. The point cloud has to be in the referential of the camera.\n",
    "frame = 100\n",
    "image_sample = sync[frame]['flir_bbfc_flimg']\n",
    "point_cloud = sync[frame]['pixell_bfc_ech'].point_cloud(referential='flir_bbfc', undistort=True)\n",
    "\n",
    "# We project the point cloud\n",
    "image_sample.project_pts(point_cloud) # Points in camera pixel coordinates"
   ]
  },
  {
   "cell_type": "code",
   "execution_count": null,
   "metadata": {},
   "outputs": [],
   "source": []
  }
 ],
 "metadata": {
  "kernelspec": {
   "display_name": "Python 3.6.9 64-bit",
   "language": "python",
   "name": "python36964bitc2d01bbb5ec14380b37b83d30aac7c6a"
  },
  "language_info": {
   "codemirror_mode": {
    "name": "ipython",
    "version": 3
   },
   "file_extension": ".py",
   "mimetype": "text/x-python",
   "name": "python",
   "nbconvert_exporter": "python",
   "pygments_lexer": "ipython3",
   "version": "3.6.9-final"
  },
  "orig_nbformat": 2
 },
 "nbformat": 4,
 "nbformat_minor": 2
}
