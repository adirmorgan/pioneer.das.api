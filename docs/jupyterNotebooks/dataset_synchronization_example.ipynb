{
 "metadata": {
  "language_info": {
   "codemirror_mode": {
    "name": "ipython",
    "version": 3
   },
   "file_extension": ".py",
   "mimetype": "text/x-python",
   "name": "python",
   "nbconvert_exporter": "python",
   "pygments_lexer": "ipython3",
   "version": "3.6.9-final"
  },
  "orig_nbformat": 2,
  "kernelspec": {
   "name": "python36964bitc2d01bbb5ec14380b37b83d30aac7c6a",
   "display_name": "Python 3.6.9 64-bit",
   "language": "python"
  }
 },
 "nbformat": 4,
 "nbformat_minor": 2,
 "cells": [
  {
   "cell_type": "code",
   "execution_count": 1,
   "metadata": {},
   "outputs": [],
   "source": [
    "from pioneer.das.api.platform import Platform"
   ]
  },
  {
   "cell_type": "code",
   "execution_count": 2,
   "metadata": {},
   "outputs": [
    {
     "output_type": "stream",
     "name": "stderr",
     "text": [
      "Loading sensors: 100%|██████████| 9/9 [00:04<00:00,  2.16it/s]\n"
     ]
    }
   ],
   "source": [
    "#Import a dataset\n",
    "pf = Platform('/nas/pixset/exportedDataset/20200610_185206_rec_dataset_downtown05_exported')"
   ]
  },
  {
   "cell_type": "code",
   "execution_count": 3,
   "metadata": {},
   "outputs": [
    {
     "output_type": "stream",
     "name": "stderr",
     "text": [
      "Synchronizing: 100%|██████████| 7/7 [00:01<00:00,  5.71it/s]\n"
     ]
    }
   ],
   "source": [
    "sync = pf.synchronized()"
   ]
  },
  {
   "cell_type": "code",
   "execution_count": 4,
   "metadata": {},
   "outputs": [
    {
     "output_type": "execute_result",
     "data": {
      "text/plain": [
       "11292"
      ]
     },
     "metadata": {},
     "execution_count": 4
    }
   ],
   "source": [
    "# The number of synchronized sets of samples\n",
    "len(sync)"
   ]
  },
  {
   "cell_type": "code",
   "execution_count": 10,
   "metadata": {},
   "outputs": [],
   "source": [
    "# Loop over all synchronized samples of echoes and images from the camera 'flir_bbfc'\n",
    "for index in range(len(sync)):\n",
    "    echoes = sync[index]['pixell_bfc_ech']\n",
    "    image = sync[index]['flir_bbfc_flimg']"
   ]
  },
  {
   "cell_type": "code",
   "execution_count": 18,
   "metadata": {},
   "outputs": [
    {
     "output_type": "stream",
     "name": "stderr",
     "text": [
      "Synchronizing: 100%|██████████| 2/2 [00:00<00:00, 17.93it/s]\n"
     ]
    },
    {
     "output_type": "execute_result",
     "data": {
      "text/plain": [
       "302"
      ]
     },
     "metadata": {},
     "execution_count": 18
    }
   ],
   "source": [
    "# Synchronize only echoes with bounding boxes\n",
    "sync = pf.synchronized(sync_labels=['*_ech*','*_box3d*'])\n",
    "len(sync)"
   ]
  },
  {
   "cell_type": "code",
   "execution_count": null,
   "metadata": {},
   "outputs": [],
   "source": []
  }
 ]
}